{
 "cells": [
  {
   "cell_type": "code",
   "execution_count": 18,
   "metadata": {},
   "outputs": [],
   "source": [
    "from struct import *"
   ]
  },
  {
   "cell_type": "code",
   "execution_count": 19,
   "metadata": {},
   "outputs": [
    {
     "name": "stdout",
     "output_type": "stream",
     "text": [
      "b'\\x06\\x00\\x00\\x00\\x13\\x00\\x00\\x00\\x00\\x00\\x90@'\n"
     ]
    }
   ],
   "source": [
    "# Store as bytes data\n",
    "packed_data = pack('iif', 6, 19, 4.5)\n",
    "print(packed_data)"
   ]
  },
  {
   "cell_type": "code",
   "execution_count": 20,
   "metadata": {},
   "outputs": [
    {
     "name": "stdout",
     "output_type": "stream",
     "text": [
      "4\n",
      "4\n",
      "12\n"
     ]
    }
   ],
   "source": [
    "print(calcsize('i'))\n",
    "print(calcsize('f'))\n",
    "print(calcsize('iif'))"
   ]
  },
  {
   "cell_type": "code",
   "execution_count": 21,
   "metadata": {},
   "outputs": [
    {
     "name": "stdout",
     "output_type": "stream",
     "text": [
      "(6, 19, 4.5)\n"
     ]
    }
   ],
   "source": [
    "# To get byte data back to normal\n",
    "original_data = unpack('iif', packed_data)\n",
    "print(original_data)"
   ]
  },
  {
   "cell_type": "code",
   "execution_count": 22,
   "metadata": {},
   "outputs": [
    {
     "name": "stdout",
     "output_type": "stream",
     "text": [
      "(6, 19, 4.5)\n"
     ]
    }
   ],
   "source": [
    "print(unpack('iif', b'\\x06\\x00\\x00\\x00\\x13\\x00\\x00\\x00\\x00\\x00\\x90@'))"
   ]
  }
 ],
 "metadata": {
  "kernelspec": {
   "display_name": "Python 3",
   "language": "python",
   "name": "python3"
  },
  "language_info": {
   "codemirror_mode": {
    "name": "ipython",
    "version": 3
   },
   "file_extension": ".py",
   "mimetype": "text/x-python",
   "name": "python",
   "nbconvert_exporter": "python",
   "pygments_lexer": "ipython3",
   "version": "3.11.3"
  },
  "orig_nbformat": 4
 },
 "nbformat": 4,
 "nbformat_minor": 2
}
