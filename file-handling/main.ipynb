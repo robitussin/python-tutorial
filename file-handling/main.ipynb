{
 "cells": [
  {
   "cell_type": "code",
   "execution_count": 4,
   "metadata": {},
   "outputs": [],
   "source": [
    "# File Write\n",
    "fw = open('sample.txt', 'w')\n",
    "fw.write(\"Writing some stuff in my text file \\n\")\n",
    "fw.write('I like bacon')\n",
    "fw.close()"
   ]
  },
  {
   "cell_type": "code",
   "execution_count": 5,
   "metadata": {},
   "outputs": [
    {
     "name": "stdout",
     "output_type": "stream",
     "text": [
      "Writing some stuff in my text file \n",
      "I like bacon\n"
     ]
    }
   ],
   "source": [
    "# File Read\n",
    "fr = open('sample.txt')\n",
    "text = fr.read()\n",
    "print(text)\n",
    "fw.close()"
   ]
  }
 ],
 "metadata": {
  "kernelspec": {
   "display_name": "Python 3",
   "language": "python",
   "name": "python3"
  },
  "language_info": {
   "codemirror_mode": {
    "name": "ipython",
    "version": 3
   },
   "file_extension": ".py",
   "mimetype": "text/x-python",
   "name": "python",
   "nbconvert_exporter": "python",
   "pygments_lexer": "ipython3",
   "version": "3.11.3"
  },
  "orig_nbformat": 4
 },
 "nbformat": 4,
 "nbformat_minor": 2
}
