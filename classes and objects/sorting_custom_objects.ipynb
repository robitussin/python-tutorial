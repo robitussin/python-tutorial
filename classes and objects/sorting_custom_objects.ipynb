{
 "cells": [
  {
   "cell_type": "code",
   "execution_count": 10,
   "metadata": {},
   "outputs": [],
   "source": [
    "from operator import attrgetter"
   ]
  },
  {
   "cell_type": "code",
   "execution_count": 11,
   "metadata": {},
   "outputs": [],
   "source": [
    "class User:\n",
    "    def __init__(self, x, y):\n",
    "        self.name = x\n",
    "        self.user_id = y\n",
    "\n",
    "    def __repr__(self):\n",
    "        return self.name + \":\" + str(self.user_id)"
   ]
  },
  {
   "cell_type": "code",
   "execution_count": 12,
   "metadata": {},
   "outputs": [],
   "source": [
    "users = [\n",
    "    User('Sly', 33),\n",
    "    User('Rona', 31),\n",
    "    User('Paola', 37),\n",
    "    User('Pamela', 35)\n",
    "]"
   ]
  },
  {
   "cell_type": "code",
   "execution_count": 13,
   "metadata": {},
   "outputs": [
    {
     "name": "stdout",
     "output_type": "stream",
     "text": [
      "Sly:33\n",
      "Rona:31\n",
      "Paola:37\n",
      "Pamela:35\n"
     ]
    }
   ],
   "source": [
    "for x in users:\n",
    "    print(x)"
   ]
  },
  {
   "cell_type": "code",
   "execution_count": 14,
   "metadata": {},
   "outputs": [
    {
     "name": "stdout",
     "output_type": "stream",
     "text": [
      "Pamela:35\n",
      "Paola:37\n",
      "Rona:31\n",
      "Sly:33\n"
     ]
    }
   ],
   "source": [
    "for user in sorted(users, key=attrgetter('name')):\n",
    "    print(user)"
   ]
  },
  {
   "cell_type": "code",
   "execution_count": 15,
   "metadata": {},
   "outputs": [
    {
     "name": "stdout",
     "output_type": "stream",
     "text": [
      "Rona:31\n",
      "Sly:33\n",
      "Pamela:35\n",
      "Paola:37\n"
     ]
    }
   ],
   "source": [
    "for user in sorted(users, key=attrgetter('user_id')):\n",
    "    print(user)"
   ]
  }
 ],
 "metadata": {
  "kernelspec": {
   "display_name": "Python 3",
   "language": "python",
   "name": "python3"
  },
  "language_info": {
   "codemirror_mode": {
    "name": "ipython",
    "version": 3
   },
   "file_extension": ".py",
   "mimetype": "text/x-python",
   "name": "python",
   "nbconvert_exporter": "python",
   "pygments_lexer": "ipython3",
   "version": "3.11.3"
  },
  "orig_nbformat": 4
 },
 "nbformat": 4,
 "nbformat_minor": 2
}
