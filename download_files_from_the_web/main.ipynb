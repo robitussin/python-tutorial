{
 "cells": [
  {
   "cell_type": "code",
   "execution_count": 5,
   "metadata": {},
   "outputs": [],
   "source": [
    "from urllib import request"
   ]
  },
  {
   "cell_type": "code",
   "execution_count": 6,
   "metadata": {},
   "outputs": [],
   "source": [
    "file_url = \"https://query1.finance.yahoo.com/v7/finance/download/GOOG?period1=1657027374&period2=1688563374&interval=1d&events=history&includeAdjustedClose=true\""
   ]
  },
  {
   "cell_type": "code",
   "execution_count": 7,
   "metadata": {},
   "outputs": [],
   "source": [
    "def download_stock_data(url):\n",
    "    response = request.urlopen(url)\n",
    "    # Read data from downloaded in URL\n",
    "    csv = response.read()\n",
    "    csv_str = str(csv)\n",
    "    lines = csv_str.split(\"\\\\n\")\n",
    "    dest_url = r'file.csv'\n",
    "    fx = open(dest_url, \"w\")\n",
    "    for line in lines:\n",
    "        fx.write(line + \"\\n\") \n",
    "    fx.close()"
   ]
  },
  {
   "cell_type": "code",
   "execution_count": 8,
   "metadata": {},
   "outputs": [],
   "source": [
    "download_stock_data(file_url)"
   ]
  }
 ],
 "metadata": {
  "kernelspec": {
   "display_name": "Python 3",
   "language": "python",
   "name": "python3"
  },
  "language_info": {
   "codemirror_mode": {
    "name": "ipython",
    "version": 3
   },
   "file_extension": ".py",
   "mimetype": "text/x-python",
   "name": "python",
   "nbconvert_exporter": "python",
   "pygments_lexer": "ipython3",
   "version": "3.11.3"
  },
  "orig_nbformat": 4
 },
 "nbformat": 4,
 "nbformat_minor": 2
}
