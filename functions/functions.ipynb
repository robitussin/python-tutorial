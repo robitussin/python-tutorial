{
 "cells": [
  {
   "cell_type": "code",
   "execution_count": 16,
   "metadata": {},
   "outputs": [],
   "source": [
    "# Define a function\n",
    "def chicken():\n",
    "    print(\"i love chicken\")"
   ]
  },
  {
   "cell_type": "code",
   "execution_count": 17,
   "metadata": {},
   "outputs": [
    {
     "name": "stdout",
     "output_type": "stream",
     "text": [
      "i love chicken\n"
     ]
    }
   ],
   "source": [
    "# Call a function\n",
    "chicken()"
   ]
  },
  {
   "cell_type": "code",
   "execution_count": 18,
   "metadata": {},
   "outputs": [],
   "source": [
    "def dollar_to_peso(usd):\n",
    "    amount  = usd * 50.00\n",
    "    print(amount, \"pesos\")"
   ]
  },
  {
   "cell_type": "code",
   "execution_count": 19,
   "metadata": {},
   "outputs": [
    {
     "name": "stdout",
     "output_type": "stream",
     "text": [
      "50.0 pesos\n"
     ]
    }
   ],
   "source": [
    "dollar_to_peso(1)"
   ]
  },
  {
   "cell_type": "code",
   "execution_count": 20,
   "metadata": {},
   "outputs": [],
   "source": [
    "# Function with return keyword\n",
    "def allowed_dating_age(myAge):\n",
    "    girls_age = (myAge / 2) + 7\n",
    "    return girls_age"
   ]
  },
  {
   "cell_type": "code",
   "execution_count": 21,
   "metadata": {},
   "outputs": [
    {
     "name": "stdout",
     "output_type": "stream",
     "text": [
      "I can date girls 22.0 or older\n",
      "Creepy joe can date girls 9.5 or older\n"
     ]
    }
   ],
   "source": [
    "my_dating_age_limit = allowed_dating_age(30)\n",
    "print(\"I can date girls\", my_dating_age_limit , \"or older\")\n",
    "\n",
    "creepy_joe_dating_age_limit = allowed_dating_age(5)\n",
    "print(\"Creepy joe can date girls\", creepy_joe_dating_age_limit , \"or older\")"
   ]
  },
  {
   "cell_type": "code",
   "execution_count": 24,
   "metadata": {},
   "outputs": [],
   "source": [
    "# Function with default values\n",
    "def get_gender(sex = 'unknown'):\n",
    "    if sex == 'm':\n",
    "        sex = \"male\"\n",
    "    elif sex == 'f':\n",
    "        sex = \"female\"\n",
    "    print(sex)"
   ]
  },
  {
   "cell_type": "code",
   "execution_count": 25,
   "metadata": {},
   "outputs": [
    {
     "name": "stdout",
     "output_type": "stream",
     "text": [
      "male\n",
      "female\n",
      "x\n"
     ]
    }
   ],
   "source": [
    "get_gender(\"m\")\n",
    "get_gender(\"f\")\n",
    "get_gender(\"x\")"
   ]
  }
 ],
 "metadata": {
  "kernelspec": {
   "display_name": "Python 3",
   "language": "python",
   "name": "python3"
  },
  "language_info": {
   "codemirror_mode": {
    "name": "ipython",
    "version": 3
   },
   "file_extension": ".py",
   "mimetype": "text/x-python",
   "name": "python",
   "nbconvert_exporter": "python",
   "pygments_lexer": "ipython3",
   "version": "3.11.3"
  },
  "orig_nbformat": 4
 },
 "nbformat": 4,
 "nbformat_minor": 2
}
