{
 "cells": [
  {
   "cell_type": "code",
   "execution_count": 5,
   "metadata": {},
   "outputs": [],
   "source": [
    "def myFruits(fruit1 = \"apple\", fruit2 = \"mango\", fruit3 = \"banana\"):\n",
    "    print(fruit1, fruit2, fruit3)"
   ]
  },
  {
   "cell_type": "code",
   "execution_count": 6,
   "metadata": {},
   "outputs": [
    {
     "name": "stdout",
     "output_type": "stream",
     "text": [
      "apple mango banana\n",
      "Durian Orange Grapes\n",
      "apple Watermelon banana\n",
      "apple Watermelon Peach\n"
     ]
    }
   ],
   "source": [
    "myFruits()\n",
    "myFruits(\"Durian\", \"Orange\", \"Grapes\")\n",
    "myFruits(fruit2 = \"Watermelon\")\n",
    "myFruits(fruit2 = \"Watermelon\", fruit3 = \"Peach\")"
   ]
  }
 ],
 "metadata": {
  "kernelspec": {
   "display_name": "Python 3",
   "language": "python",
   "name": "python3"
  },
  "language_info": {
   "codemirror_mode": {
    "name": "ipython",
    "version": 3
   },
   "file_extension": ".py",
   "mimetype": "text/x-python",
   "name": "python",
   "nbconvert_exporter": "python",
   "pygments_lexer": "ipython3",
   "version": "3.11.3"
  },
  "orig_nbformat": 4
 },
 "nbformat": 4,
 "nbformat_minor": 2
}
