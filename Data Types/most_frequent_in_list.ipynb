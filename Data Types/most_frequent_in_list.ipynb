{
 "cells": [
  {
   "cell_type": "code",
   "execution_count": 4,
   "metadata": {},
   "outputs": [],
   "source": [
    "from collections import Counter"
   ]
  },
  {
   "cell_type": "code",
   "execution_count": 5,
   "metadata": {},
   "outputs": [],
   "source": [
    "text = 'Set during the Third War for Armageddon, Helsreach follows Grimaldus, the newly promoted Reclusiarch of the Black Templars.' \\\n",
    "       'Leading a group of Black Templars, and supported by the 101st Armageddon Steel Legion and titans of Legio Invigilata, ' \\\n",
    "       'he is tasked with the defense of Hive Helsreach from the Ork invasion. Other characters and sub-plots include a Black Templar ' \\\n",
    "       'Techmarine attempting to gain access to and activate Ordinatus Armageddon for use in defense of the hive,an Armageddon Steel Legion stormtrooper, ' \\\n",
    "       'the command crew and priest of the Imperator Titan Stormherald, and Astra Militarum staff officers overseeing Helsreach\\'s defence.'"
   ]
  },
  {
   "cell_type": "code",
   "execution_count": 6,
   "metadata": {},
   "outputs": [
    {
     "name": "stdout",
     "output_type": "stream",
     "text": [
      "[('the', 9), ('of', 6), ('and', 6)]\n"
     ]
    }
   ],
   "source": [
    "words = text.split()\n",
    "counter = Counter(words)\n",
    "top_three = counter.most_common(3)\n",
    "print(top_three)"
   ]
  }
 ],
 "metadata": {
  "kernelspec": {
   "display_name": "Python 3",
   "language": "python",
   "name": "python3"
  },
  "language_info": {
   "codemirror_mode": {
    "name": "ipython",
    "version": 3
   },
   "file_extension": ".py",
   "mimetype": "text/x-python",
   "name": "python",
   "nbconvert_exporter": "python",
   "pygments_lexer": "ipython3",
   "version": "3.11.3"
  },
  "orig_nbformat": 4
 },
 "nbformat": 4,
 "nbformat_minor": 2
}
