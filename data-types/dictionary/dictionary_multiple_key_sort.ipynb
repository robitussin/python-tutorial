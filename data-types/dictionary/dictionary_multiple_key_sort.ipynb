{
 "cells": [
  {
   "cell_type": "code",
   "execution_count": 18,
   "metadata": {},
   "outputs": [],
   "source": [
    "from operator import itemgetter"
   ]
  },
  {
   "cell_type": "code",
   "execution_count": 19,
   "metadata": {},
   "outputs": [],
   "source": [
    "users = [\n",
    "    {'fname': 'Sly', 'lname': 'Ponio'},\n",
    "    {'fname': 'Sly', 'lname': 'Alberto'},\n",
    "    {'fname': 'Marion', 'lname': 'Dela Cruz'},\n",
    "    {'fname': 'Rona', 'lname': 'Salazar'},\n",
    "    {'fname': 'Paola', 'lname': 'Ponio'},\n",
    "    {'fname': 'Pamela', 'lname': 'Ponio'},\n",
    "    {'fname': 'Sarah', 'lname': 'Mirandilla'},\n",
    "]"
   ]
  },
  {
   "cell_type": "code",
   "execution_count": 20,
   "metadata": {},
   "outputs": [
    {
     "name": "stdout",
     "output_type": "stream",
     "text": [
      "{'fname': 'Marion', 'lname': 'Dela Cruz'}\n",
      "{'fname': 'Pamela', 'lname': 'Ponio'}\n",
      "{'fname': 'Paola', 'lname': 'Ponio'}\n",
      "{'fname': 'Rona', 'lname': 'Salazar'}\n",
      "{'fname': 'Sarah', 'lname': 'Mirandilla'}\n",
      "{'fname': 'Sly', 'lname': 'Ponio'}\n",
      "{'fname': 'Sly', 'lname': 'Alberto'}\n"
     ]
    }
   ],
   "source": [
    "for x in sorted(users, key=itemgetter('fname')):\n",
    "    print(x)"
   ]
  },
  {
   "cell_type": "code",
   "execution_count": 21,
   "metadata": {},
   "outputs": [
    {
     "name": "stdout",
     "output_type": "stream",
     "text": [
      "{'fname': 'Marion', 'lname': 'Dela Cruz'}\n",
      "{'fname': 'Pamela', 'lname': 'Ponio'}\n",
      "{'fname': 'Paola', 'lname': 'Ponio'}\n",
      "{'fname': 'Rona', 'lname': 'Salazar'}\n",
      "{'fname': 'Sarah', 'lname': 'Mirandilla'}\n",
      "{'fname': 'Sly', 'lname': 'Alberto'}\n",
      "{'fname': 'Sly', 'lname': 'Ponio'}\n"
     ]
    }
   ],
   "source": [
    "for x in sorted(users, key=itemgetter('fname', 'lname')):\n",
    "    print(x)"
   ]
  }
 ],
 "metadata": {
  "kernelspec": {
   "display_name": "Python 3",
   "language": "python",
   "name": "python3"
  },
  "language_info": {
   "codemirror_mode": {
    "name": "ipython",
    "version": 3
   },
   "file_extension": ".py",
   "mimetype": "text/x-python",
   "name": "python",
   "nbconvert_exporter": "python",
   "pygments_lexer": "ipython3",
   "version": "3.11.3"
  },
  "orig_nbformat": 4
 },
 "nbformat": 4,
 "nbformat_minor": 2
}
