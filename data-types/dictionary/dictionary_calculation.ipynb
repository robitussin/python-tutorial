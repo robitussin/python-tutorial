{
 "cells": [
  {
   "cell_type": "code",
   "execution_count": 3,
   "metadata": {},
   "outputs": [],
   "source": [
    "stocks = {\n",
    "    'GOOG': 434,\n",
    "    'AAPL': 325,\n",
    "    'FB': 54,\n",
    "    'AMZN': 623,\n",
    "    'F': 32,\n",
    "    'MSFT': 549,\n",
    "}"
   ]
  },
  {
   "cell_type": "code",
   "execution_count": 4,
   "metadata": {},
   "outputs": [
    {
     "name": "stdout",
     "output_type": "stream",
     "text": [
      "(32, 'F')\n"
     ]
    }
   ],
   "source": [
    "# (434, GOOG) (325, AAPL)\n",
    "min_price = min(zip(stocks.values(), stocks.keys()))\n",
    "print(min_price)"
   ]
  }
 ],
 "metadata": {
  "kernelspec": {
   "display_name": "Python 3",
   "language": "python",
   "name": "python3"
  },
  "language_info": {
   "codemirror_mode": {
    "name": "ipython",
    "version": 3
   },
   "file_extension": ".py",
   "mimetype": "text/x-python",
   "name": "python",
   "nbconvert_exporter": "python",
   "pygments_lexer": "ipython3",
   "version": "3.11.3"
  },
  "orig_nbformat": 4
 },
 "nbformat": 4,
 "nbformat_minor": 2
}
