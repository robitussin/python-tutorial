{
 "cells": [
  {
   "cell_type": "code",
   "execution_count": 4,
   "metadata": {},
   "outputs": [
    {
     "name": "stdout",
     "output_type": "stream",
     "text": [
      "no beer for you\n"
     ]
    }
   ],
   "source": [
    "age = 13\n",
    "\n",
    "if age < 21:\n",
    "    print(\"no beer for you\")"
   ]
  },
  {
   "cell_type": "code",
   "execution_count": 9,
   "metadata": {},
   "outputs": [
    {
     "name": "stdout",
     "output_type": "stream",
     "text": [
      "hello elizer\n"
     ]
    }
   ],
   "source": [
    "name = \"elizer\"\n",
    "\n",
    "if name == \"sly\":\n",
    "    print(\"hello sly\")\n",
    "elif name == \"elizer\":\n",
    "    print(\"hello elizer\")\n",
    "elif name == \"ponio\":\n",
    "    print(\"hello ponio\")"
   ]
  },
  {
   "cell_type": "code",
   "execution_count": 14,
   "metadata": {},
   "outputs": [
    {
     "name": "stdout",
     "output_type": "stream",
     "text": [
      "please register\n"
     ]
    }
   ],
   "source": [
    "name = \"livi\"\n",
    "\n",
    "if name == \"sly\":\n",
    "    print(\"hello sly\")\n",
    "elif name == \"elizer\":\n",
    "    print(\"hello elizer\")\n",
    "elif name == \"ponio\":\n",
    "    print(\"hello ponio\")\n",
    "else:\n",
    "    print(\"please register\")\n"
   ]
  }
 ],
 "metadata": {
  "kernelspec": {
   "display_name": "Python 3",
   "language": "python",
   "name": "python3"
  },
  "language_info": {
   "codemirror_mode": {
    "name": "ipython",
    "version": 3
   },
   "file_extension": ".py",
   "mimetype": "text/x-python",
   "name": "python",
   "nbconvert_exporter": "python",
   "pygments_lexer": "ipython3",
   "version": "3.9.13"
  },
  "orig_nbformat": 4
 },
 "nbformat": 4,
 "nbformat_minor": 2
}
