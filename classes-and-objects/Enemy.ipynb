{
 "cells": [
  {
   "cell_type": "code",
   "execution_count": 1,
   "metadata": {},
   "outputs": [],
   "source": [
    "class Enemy:\n",
    "    life = 3\n",
    "\n",
    "    def attack(self):\n",
    "        print(\"Ouch\")\n",
    "        self.life -= 1\n",
    "\n",
    "    def checkLife(self):\n",
    "        if self.life <= 0:\n",
    "            print(\"I am dead\")\n",
    "        else:\n",
    "            print(str(self.life) + \" life left\")"
   ]
  },
  {
   "cell_type": "code",
   "execution_count": 2,
   "metadata": {},
   "outputs": [
    {
     "name": "stdout",
     "output_type": "stream",
     "text": [
      "Ouch\n",
      "2 life left\n"
     ]
    }
   ],
   "source": [
    "enemy1 = Enemy()\n",
    "enemy1.attack()\n",
    "enemy1.checkLife()"
   ]
  },
  {
   "cell_type": "code",
   "execution_count": 3,
   "metadata": {},
   "outputs": [
    {
     "name": "stdout",
     "output_type": "stream",
     "text": [
      "Ouch\n",
      "2 life left\n"
     ]
    }
   ],
   "source": [
    "enemy2 = Enemy()\n",
    "enemy2.attack()\n",
    "enemy2.checkLife()"
   ]
  }
 ],
 "metadata": {
  "kernelspec": {
   "display_name": "Python 3",
   "language": "python",
   "name": "python3"
  },
  "language_info": {
   "codemirror_mode": {
    "name": "ipython",
    "version": 3
   },
   "file_extension": ".py",
   "mimetype": "text/x-python",
   "name": "python",
   "nbconvert_exporter": "python",
   "pygments_lexer": "ipython3",
   "version": "3.11.3"
  },
  "orig_nbformat": 4
 },
 "nbformat": 4,
 "nbformat_minor": 2
}
