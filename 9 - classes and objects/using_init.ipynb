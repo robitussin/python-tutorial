{
 "cells": [
  {
   "cell_type": "code",
   "execution_count": 7,
   "metadata": {},
   "outputs": [],
   "source": [
    "class Tuna:\n",
    "\n",
    "    # init gets called everytime a new object is created\n",
    "    def __init__(self):\n",
    "        print(\"Bluurrp\")\n",
    "\n",
    "    def swim(self):\n",
    "        print(\"I am swimming\")"
   ]
  },
  {
   "cell_type": "code",
   "execution_count": 8,
   "metadata": {},
   "outputs": [
    {
     "name": "stdout",
     "output_type": "stream",
     "text": [
      "Bluurrp\n",
      "I am swimming\n"
     ]
    }
   ],
   "source": [
    "tuna = Tuna()\n",
    "tuna.swim()"
   ]
  },
  {
   "cell_type": "code",
   "execution_count": 14,
   "metadata": {},
   "outputs": [],
   "source": [
    "class Enemy:\n",
    "\n",
    "    def __init__(self, x):\n",
    "        self.energy = x\n",
    "    \n",
    "    def getEnergy(self):\n",
    "        print(self.energy)"
   ]
  },
  {
   "cell_type": "code",
   "execution_count": 15,
   "metadata": {},
   "outputs": [
    {
     "name": "stdout",
     "output_type": "stream",
     "text": [
      "5\n"
     ]
    }
   ],
   "source": [
    "monster = Enemy(5)\n",
    "monster.getEnergy()"
   ]
  }
 ],
 "metadata": {
  "kernelspec": {
   "display_name": "Python 3",
   "language": "python",
   "name": "python3"
  },
  "language_info": {
   "codemirror_mode": {
    "name": "ipython",
    "version": 3
   },
   "file_extension": ".py",
   "mimetype": "text/x-python",
   "name": "python",
   "nbconvert_exporter": "python",
   "pygments_lexer": "ipython3",
   "version": "3.11.3"
  },
  "orig_nbformat": 4
 },
 "nbformat": 4,
 "nbformat_minor": 2
}
