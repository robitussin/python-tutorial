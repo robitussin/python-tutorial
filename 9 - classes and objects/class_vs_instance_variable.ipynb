{
 "cells": [
  {
   "cell_type": "code",
   "execution_count": 1,
   "metadata": {},
   "outputs": [],
   "source": [
    "class Girl:\n",
    "\n",
    "    # Class variable\n",
    "    gender = \"female\"\n",
    "\n",
    "    def __init__(self, name):\n",
    "        # Instance variable\n",
    "        self.name = name"
   ]
  },
  {
   "cell_type": "code",
   "execution_count": 2,
   "metadata": {},
   "outputs": [
    {
     "name": "stdout",
     "output_type": "stream",
     "text": [
      "female\n",
      "Rona\n",
      "female\n",
      "Livi\n"
     ]
    }
   ],
   "source": [
    "girl1 = Girl(\"Rona\")\n",
    "girl2 = Girl(\"Livi\")\n",
    "\n",
    "print(girl1.gender)\n",
    "print(girl1.name)\n",
    "print(girl2.gender)\n",
    "print(girl2.name)"
   ]
  }
 ],
 "metadata": {
  "kernelspec": {
   "display_name": "Python 3",
   "language": "python",
   "name": "python3"
  },
  "language_info": {
   "codemirror_mode": {
    "name": "ipython",
    "version": 3
   },
   "file_extension": ".py",
   "mimetype": "text/x-python",
   "name": "python",
   "nbconvert_exporter": "python",
   "pygments_lexer": "ipython3",
   "version": "3.11.3"
  },
  "orig_nbformat": 4
 },
 "nbformat": 4,
 "nbformat_minor": 2
}
