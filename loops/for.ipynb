{
 "cells": [
  {
   "cell_type": "code",
   "execution_count": 2,
   "metadata": {},
   "outputs": [],
   "source": [
    "foods = ['bacon', 'tuna', 'ham', 'sausage', 'beef']"
   ]
  },
  {
   "cell_type": "code",
   "execution_count": 5,
   "metadata": {},
   "outputs": [
    {
     "name": "stdout",
     "output_type": "stream",
     "text": [
      "bacon\n",
      "5\n",
      "tuna\n",
      "4\n",
      "ham\n",
      "3\n",
      "sausage\n",
      "7\n",
      "beef\n",
      "4\n"
     ]
    }
   ],
   "source": [
    "for f in foods:\n",
    "    print(f)\n",
    "    print(len(f))"
   ]
  },
  {
   "cell_type": "code",
   "execution_count": 6,
   "metadata": {},
   "outputs": [
    {
     "name": "stdout",
     "output_type": "stream",
     "text": [
      "bacon\n",
      "5\n",
      "tuna\n",
      "4\n"
     ]
    }
   ],
   "source": [
    "for f in foods[:2]:\n",
    "    print(f)\n",
    "    print(len(f))\n"
   ]
  }
 ],
 "metadata": {
  "kernelspec": {
   "display_name": "Python 3",
   "language": "python",
   "name": "python3"
  },
  "language_info": {
   "codemirror_mode": {
    "name": "ipython",
    "version": 3
   },
   "file_extension": ".py",
   "mimetype": "text/x-python",
   "name": "python",
   "nbconvert_exporter": "python",
   "pygments_lexer": "ipython3",
   "version": "3.9.13"
  },
  "orig_nbformat": 4
 },
 "nbformat": 4,
 "nbformat_minor": 2
}
